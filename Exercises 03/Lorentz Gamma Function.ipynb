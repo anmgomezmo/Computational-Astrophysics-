{
 "cells": [
  {
   "cell_type": "code",
   "execution_count": 1,
   "metadata": {},
   "outputs": [],
   "source": [
    "import numpy as np\n",
    "from astropy import constants as const\n",
    "from astropy.io import ascii \n",
    "import matplotlib.pyplot as plt "
   ]
  },
  {
   "cell_type": "code",
   "execution_count": 2,
   "metadata": {},
   "outputs": [],
   "source": [
    "def lorentz_gamma(par,beta=False):\n",
    "    if beta:\n",
    "        return 1.0/np.sqrt(1-(par*par))\n",
    "    else:\n",
    "        return 1.0/np.sqrt(1-(par*par)/(const.c*const.c))"
   ]
  },
  {
   "cell_type": "code",
   "execution_count": 3,
   "metadata": {},
   "outputs": [],
   "source": [
    "def file(Nmax):\n",
    "    beta = np.linspace(0,1.0,Nmax)\n",
    "    gamma = lorentz_gamma(beta,beta=True)\n",
    "    func = np.column_stack((beta,gamma))\n",
    "    np.savetxt('lorentz_gamma.txt',func,fmt='%0.4f',header='Values of beta (v/c) and its respective gamma function')"
   ]
  },
  {
   "cell_type": "code",
   "execution_count": 4,
   "metadata": {},
   "outputs": [
    {
     "name": "stderr",
     "output_type": "stream",
     "text": [
      "<ipython-input-2-422254c063fe>:3: RuntimeWarning: divide by zero encountered in true_divide\n",
      "  return 1.0/np.sqrt(1-(par*par))\n"
     ]
    }
   ],
   "source": [
    "N = 100\n",
    "file(N)"
   ]
  },
  {
   "cell_type": "code",
   "execution_count": 5,
   "metadata": {},
   "outputs": [
    {
     "data": {
      "text/html": [
       "<i>Table length=100</i>\n",
       "<table id=\"table139652800966320\" class=\"table-striped table-bordered table-condensed\">\n",
       "<thead><tr><th>col1</th><th>col2</th></tr></thead>\n",
       "<thead><tr><th>float64</th><th>float64</th></tr></thead>\n",
       "<tr><td>0.0</td><td>1.0</td></tr>\n",
       "<tr><td>0.0101</td><td>1.0001</td></tr>\n",
       "<tr><td>0.0202</td><td>1.0002</td></tr>\n",
       "<tr><td>0.0303</td><td>1.0005</td></tr>\n",
       "<tr><td>0.0404</td><td>1.0008</td></tr>\n",
       "<tr><td>0.0505</td><td>1.0013</td></tr>\n",
       "<tr><td>0.0606</td><td>1.0018</td></tr>\n",
       "<tr><td>0.0707</td><td>1.0025</td></tr>\n",
       "<tr><td>0.0808</td><td>1.0033</td></tr>\n",
       "<tr><td>0.0909</td><td>1.0042</td></tr>\n",
       "<tr><td>...</td><td>...</td></tr>\n",
       "<tr><td>0.9091</td><td>2.4004</td></tr>\n",
       "<tr><td>0.9192</td><td>2.5393</td></tr>\n",
       "<tr><td>0.9293</td><td>2.7075</td></tr>\n",
       "<tr><td>0.9394</td><td>2.9168</td></tr>\n",
       "<tr><td>0.9495</td><td>3.1869</td></tr>\n",
       "<tr><td>0.9596</td><td>3.5539</td></tr>\n",
       "<tr><td>0.9697</td><td>4.0931</td></tr>\n",
       "<tr><td>0.9798</td><td>5.0003</td></tr>\n",
       "<tr><td>0.9899</td><td>7.0535</td></tr>\n",
       "<tr><td>1.0</td><td>inf</td></tr>\n",
       "</table>"
      ],
      "text/plain": [
       "<Table length=100>\n",
       "  col1    col2 \n",
       "float64 float64\n",
       "------- -------\n",
       "    0.0     1.0\n",
       " 0.0101  1.0001\n",
       " 0.0202  1.0002\n",
       " 0.0303  1.0005\n",
       " 0.0404  1.0008\n",
       " 0.0505  1.0013\n",
       " 0.0606  1.0018\n",
       " 0.0707  1.0025\n",
       " 0.0808  1.0033\n",
       " 0.0909  1.0042\n",
       "    ...     ...\n",
       " 0.9091  2.4004\n",
       " 0.9192  2.5393\n",
       " 0.9293  2.7075\n",
       " 0.9394  2.9168\n",
       " 0.9495  3.1869\n",
       " 0.9596  3.5539\n",
       " 0.9697  4.0931\n",
       " 0.9798  5.0003\n",
       " 0.9899  7.0535\n",
       "    1.0     inf"
      ]
     },
     "execution_count": 5,
     "metadata": {},
     "output_type": "execute_result"
    }
   ],
   "source": [
    "data = ascii.read('lorentz_gamma.txt')\n",
    "data "
   ]
  },
  {
   "cell_type": "code",
   "execution_count": 13,
   "metadata": {},
   "outputs": [
    {
     "data": {
      "image/png": "[encoded data removed]",
      "text/plain": [
       "<Figure size 720x504 with 1 Axes>"
      ]
     },
     "metadata": {
      "needs_background": "light"
     },
     "output_type": "display_data"
    }
   ],
   "source": [
    "plt.figure(figsize=(10,7))\n",
    "plt.plot(data['col1'],data['col2'],'or')\n",
    "plt.xlabel(r'$\\beta$')\n",
    "plt.ylabel(r'$\\gamma(\\beta)$')\n",
    "plt.show()"
   ]
  },
  {
   "cell_type": "code",
   "execution_count": null,
   "metadata": {},
   "outputs": [],
   "source": []
  }
 ],
 "metadata": {
  "kernelspec": {
   "display_name": "Python 3",
   "language": "python",
   "name": "python3"
  },
  "language_info": {
   "codemirror_mode": {
    "name": "ipython",
    "version": 3
   },
   "file_extension": ".py",
   "mimetype": "text/x-python",
   "name": "python",
   "nbconvert_exporter": "python",
   "pygments_lexer": "ipython3",
   "version": "3.8.5"
  }
 },
 "nbformat": 4,
 "nbformat_minor": 4
}

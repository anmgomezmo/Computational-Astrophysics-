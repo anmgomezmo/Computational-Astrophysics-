{
 "cells": [
  {
   "cell_type": "code",
   "execution_count": 4,
   "metadata": {},
   "outputs": [],
   "source": [
    "import numpy as np \n",
    "import matplotlib.pyplot as plt\n",
    "import astropy.constants as ct"
   ]
  },
  {
   "cell_type": "code",
   "execution_count": 7,
   "metadata": {},
   "outputs": [],
   "source": [
    "def density_integrand(x):\n",
    "    return (x**2)/(np.exp(x)+1.0)"
   ]
  },
  {
   "cell_type": "code",
   "execution_count": 21,
   "metadata": {},
   "outputs": [
    {
     "data": {
      "image/png": "[encoded data removed]",
      "text/plain": [
       "<Figure size 720x504 with 1 Axes>"
      ]
     },
     "metadata": {
      "needs_background": "light"
     },
     "output_type": "display_data"
    },
    {
     "name": "stdout",
     "output_type": "stream",
     "text": [
      "The result of the numerical integration of the discretely-sampled function\n",
      "between x = 0 and x = 100.0 is I = -1.80308535\n"
     ]
    }
   ],
   "source": [
    "# data\n",
    "x = np.linspace(0,100,10000)\n",
    "f = density_integrand(x)\n",
    "\n",
    "N = len(x)\n",
    "n = N-1\n",
    "\n",
    "plt.figure(figsize=(10,7))\n",
    "\n",
    "# Numerical integration loop\n",
    "Integral = 0.\n",
    "for i in range(int((n-2)/2 +1)):\n",
    "    h = x[2*i] - x[2*i+1]\n",
    "    Integral = Integral + h*(f[2*i] + 4*f[2*i+1] + f[2*i+2])/3\n",
    "\n",
    "plt.scatter(x, f, color='black')\n",
    "plt.hlines(0, x.min(), x.max())\n",
    "plt.title('Simpson\\'s Rule Integration')\n",
    "plt.xlabel(r'$x$')\n",
    "plt.ylabel(r'$f(x)$')\n",
    "plt.show()\n",
    "\n",
    "print(f'The result of the numerical integration of the discretely-sampled function')\n",
    "print(f'between x = {x[0]:.0f} and x = {x[len(x)-1]:.1f} is I = {Integral:.8f}')"
   ]
  },
  {
   "cell_type": "code",
   "execution_count": 19,
   "metadata": {},
   "outputs": [
    {
     "data": {
      "text/latex": [
       "$1.0540499 \\times 10^{81} \\; \\mathrm{\\frac{W^{3}}{J^{3}\\,m^{9}\\,K^{12}}}$"
      ],
      "text/plain": [
       "<Quantity 1.05404987e+81 W3 / (J3 K12 m9)>"
      ]
     },
     "execution_count": 19,
     "metadata": {},
     "output_type": "execute_result"
    }
   ],
   "source": [
    "T = 1e9\n",
    "n_pm = -Integral*8*np.pi*((ct.sigma_sb*T)/(2*np.pi*ct.hbar*ct.c))**3\n",
    "n_pm"
   ]
  },
  {
   "cell_type": "code",
   "execution_count": 32,
   "metadata": {},
   "outputs": [
    {
     "ename": "IndexError",
     "evalue": "only integers, slices (`:`), ellipsis (`...`), numpy.newaxis (`None`) and integer or boolean arrays are valid indices",
     "output_type": "error",
     "traceback": [
      "\u001b[0;31m---------------------------------------------------------------------------\u001b[0m",
      "\u001b[0;31mIndexError\u001b[0m                                Traceback (most recent call last)",
      "\u001b[0;32m<ipython-input-32-a1db34c929ab>\u001b[0m in \u001b[0;36m<module>\u001b[0;34m\u001b[0m\n\u001b[1;32m      6\u001b[0m \u001b[0;34m\u001b[0m\u001b[0m\n\u001b[1;32m      7\u001b[0m \u001b[0;32mfor\u001b[0m \u001b[0mi\u001b[0m \u001b[0;32min\u001b[0m \u001b[0mll\u001b[0m\u001b[0;34m:\u001b[0m\u001b[0;34m\u001b[0m\u001b[0;34m\u001b[0m\u001b[0m\n\u001b[0;32m----> 8\u001b[0;31m     \u001b[0mne\u001b[0m\u001b[0;34m[\u001b[0m\u001b[0;36m1000\u001b[0m\u001b[0;34m*\u001b[0m\u001b[0mi\u001b[0m\u001b[0;34m]\u001b[0m \u001b[0;34m=\u001b[0m \u001b[0mIntegral\u001b[0m\u001b[0;34m\u001b[0m\u001b[0;34m\u001b[0m\u001b[0m\n\u001b[0m\u001b[1;32m      9\u001b[0m     \u001b[0mplt\u001b[0m\u001b[0;34m.\u001b[0m\u001b[0mscatter\u001b[0m\u001b[0;34m(\u001b[0m\u001b[0mi\u001b[0m\u001b[0;34m,\u001b[0m\u001b[0;34m-\u001b[0m\u001b[0mIntegral\u001b[0m\u001b[0;34m)\u001b[0m\u001b[0;34m\u001b[0m\u001b[0;34m\u001b[0m\u001b[0m\n\u001b[1;32m     10\u001b[0m \u001b[0;34m\u001b[0m\u001b[0m\n",
      "\u001b[0;31mIndexError\u001b[0m: only integers, slices (`:`), ellipsis (`...`), numpy.newaxis (`None`) and integer or boolean arrays are valid indices"
     ]
    },
    {
     "data": {
      "text/plain": [
       "<Figure size 720x504 with 0 Axes>"
      ]
     },
     "metadata": {},
     "output_type": "display_data"
    }
   ],
   "source": [
    "l = 100\n",
    "ll = np.linspace(0,l,1000)\n",
    "ne = np.zeros(l)\n",
    "\n",
    "plt.figure(figsize=(10,7))\n",
    "\n",
    "for i in ll:\n",
    "    ne[1000*i] = Integral \n",
    "    plt.scatter(i,-Integral)\n",
    "    \n",
    "    x = np.linspace(0,i,1000)\n",
    "    f = density_integrand(x)\n",
    "\n",
    "    N = len(x)\n",
    "    n = N-1\n",
    "\n",
    "    # Numerical integration loop\n",
    "    Integral = 0.\n",
    "    for i in range(int((n-2)/2 +1)):\n",
    "        h = x[2*i] - x[2*i+1]\n",
    "        Integral = Integral + h*(f[2*i] + 4*f[2*i+1] + f[2*i+2])/3\n",
    "\n",
    "\n",
    "plt.xlabel('x')\n",
    "plt.ylabel('n_e')\n",
    "plt.show()"
   ]
  },
  {
   "cell_type": "code",
   "execution_count": null,
   "metadata": {},
   "outputs": [],
   "source": []
  }
 ],
 "metadata": {
  "kernelspec": {
   "display_name": "Python 3",
   "language": "python",
   "name": "python3"
  },
  "language_info": {
   "codemirror_mode": {
    "name": "ipython",
    "version": 3
   },
   "file_extension": ".py",
   "mimetype": "text/x-python",
   "name": "python",
   "nbconvert_exporter": "python",
   "pygments_lexer": "ipython3",
   "version": "3.8.5"
  }
 },
 "nbformat": 4,
 "nbformat_minor": 4
}
